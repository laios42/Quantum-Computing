{
 "cells": [
  {
   "cell_type": "markdown",
   "metadata": {},
   "source": [
    "# Bernstein-Vazirani Algorithm"
   ]
  },
  {
   "cell_type": "markdown",
   "metadata": {},
   "source": [
    "The Bernstein-Vazirani algorithm allows us to determine a secret number stored inside a box. Mathematically, the problem statement that we are solving is the following:\n",
    "\n",
    "Consider a hidden Boolean function $f$ which takes in a string of $n$ bits $\\{x_0, x_1, \\ldots x_{n-1}\\}$ and returns 1 for only a unique n-bit string $s = \\{s_0, s_1, \\ldots s_{n-1}\\}$ and 0 otherwise.\n",
    "\n",
    "How many attempts do we need to make in order to find the secret number $s$?\n",
    "\n",
    "**To find this secret number a Classical Computer after clever thinking will take $n$ attempts.\n",
    "But a Quantum Computer can find this secrect number in $one$ attempt.**"
   ]
  },
  {
   "cell_type": "markdown",
   "metadata": {},
   "source": [
    "The Bernstein-Vazirani Algorithm is an example of many quantum algorithms, where a quantum computer outperforms a classical computer."
   ]
  },
  {
   "cell_type": "markdown",
   "metadata": {},
   "source": [
    "## Algorithm:\n",
    "\n",
    "1. Initialize the first $n$ qubits in the state $\\vert0\\rangle$, and the last qubit in the $\\vert1\\rangle$ state. In Qiskit, all qubits are initialized in the $\\vert0\\rangle$ state, so we don't need to do anything to the first $n$ qubits. For the last qubit, we initialize it to $\\vert1\\rangle$ state by applying an $X$ gate.\n",
    "\n",
    "2. Apply Hadamard gates to all qubits.\n",
    "\n",
    "3. Build the box containing the secret number (also known as an \"oracle\"). We will build it as a function that computes $s.x$ modulo 2 by applying $CX$ gates from the first $n$ qubits onto the last qubit whenever there is a $1$ in the secret number. We will do this in reverse order, meaning that there will be a $CX$ gate from the $n$th qubit to the last qubit if the first bit of the secret number is 1.\n",
    "\n",
    "4. Measure the first $n$ qubits in the Bell basis. This means applying Hadamard gates to the first $n$ qubits again before applying measurements."
   ]
  },
  {
   "cell_type": "code",
   "execution_count": 1,
   "metadata": {},
   "outputs": [],
   "source": [
    "from qiskit import *\n",
    "from qiskit.visualization import plot_histogram\n",
    "from qiskit.tools.monitor import job_monitor\n",
    "%matplotlib inline"
   ]
  },
  {
   "cell_type": "code",
   "execution_count": 2,
   "metadata": {},
   "outputs": [],
   "source": [
    "# we decide on a secret number.\n",
    "secretNumber = '1100'"
   ]
  },
  {
   "cell_type": "code",
   "execution_count": 3,
   "metadata": {},
   "outputs": [],
   "source": [
    "n = len(secretNumber)\n",
    "\n",
    "# The algorithm requires n+1 qubits and n classical bits, where n is the length of the secret number.\n",
    "\n",
    "circuit = QuantumCircuit(n+1, n);"
   ]
  },
  {
   "cell_type": "markdown",
   "metadata": {},
   "source": [
    "### **1. Initialize all qubits as state $\\vert0\\rangle$, and the last qubit as the $\\vert1\\rangle$ state**"
   ]
  },
  {
   "cell_type": "code",
   "execution_count": 4,
   "metadata": {},
   "outputs": [
    {
     "data": {
      "text/html": [
       "<pre style=\"word-wrap: normal;white-space: pre;background: #fff0;line-height: 1.1;font-family: &quot;Courier New&quot;,Courier,monospace\">           ░ \n",
       "q_0: ──────░─\n",
       "           ░ \n",
       "q_1: ──────░─\n",
       "           ░ \n",
       "q_2: ──────░─\n",
       "           ░ \n",
       "q_3: ──────░─\n",
       "     ┌───┐ ░ \n",
       "q_4: ┤ X ├─░─\n",
       "     └───┘ ░ \n",
       "c: 4/════════\n",
       "             </pre>"
      ],
      "text/plain": [
       "           ░ \n",
       "q_0: ──────░─\n",
       "           ░ \n",
       "q_1: ──────░─\n",
       "           ░ \n",
       "q_2: ──────░─\n",
       "           ░ \n",
       "q_3: ──────░─\n",
       "     ┌───┐ ░ \n",
       "q_4: ┤ X ├─░─\n",
       "     └───┘ ░ \n",
       "c: 4/════════\n",
       "             "
      ]
     },
     "execution_count": 4,
     "metadata": {},
     "output_type": "execute_result"
    }
   ],
   "source": [
    "circuit.x(n)    # the n+1 qubits are indexed 0...n, so the last qubit is index n.\n",
    "circuit.barrier()\n",
    "circuit.draw()"
   ]
  },
  {
   "cell_type": "markdown",
   "metadata": {},
   "source": [
    "### **2. Apply H-gates to all qubits.**"
   ]
  },
  {
   "cell_type": "code",
   "execution_count": 5,
   "metadata": {},
   "outputs": [
    {
     "data": {
      "text/html": [
       "<pre style=\"word-wrap: normal;white-space: pre;background: #fff0;line-height: 1.1;font-family: &quot;Courier New&quot;,Courier,monospace\">           ░ ┌───┐ ░ \n",
       "q_0: ──────░─┤ H ├─░─\n",
       "           ░ ├───┤ ░ \n",
       "q_1: ──────░─┤ H ├─░─\n",
       "           ░ ├───┤ ░ \n",
       "q_2: ──────░─┤ H ├─░─\n",
       "           ░ ├───┤ ░ \n",
       "q_3: ──────░─┤ H ├─░─\n",
       "     ┌───┐ ░ ├───┤ ░ \n",
       "q_4: ┤ X ├─░─┤ H ├─░─\n",
       "     └───┘ ░ └───┘ ░ \n",
       "c: 4/════════════════\n",
       "                     </pre>"
      ],
      "text/plain": [
       "           ░ ┌───┐ ░ \n",
       "q_0: ──────░─┤ H ├─░─\n",
       "           ░ ├───┤ ░ \n",
       "q_1: ──────░─┤ H ├─░─\n",
       "           ░ ├───┤ ░ \n",
       "q_2: ──────░─┤ H ├─░─\n",
       "           ░ ├───┤ ░ \n",
       "q_3: ──────░─┤ H ├─░─\n",
       "     ┌───┐ ░ ├───┤ ░ \n",
       "q_4: ┤ X ├─░─┤ H ├─░─\n",
       "     └───┘ ░ └───┘ ░ \n",
       "c: 4/════════════════\n",
       "                     "
      ]
     },
     "execution_count": 5,
     "metadata": {},
     "output_type": "execute_result"
    }
   ],
   "source": [
    "circuit.h(range(n+1))   # range(n+1) returns [0,1,2,...,n] in Python. This will cover all the qubits.\n",
    "circuit.barrier()\n",
    "circuit.draw()"
   ]
  },
  {
   "cell_type": "markdown",
   "metadata": {},
   "source": [
    "### **3. Oracle**"
   ]
  },
  {
   "cell_type": "markdown",
   "metadata": {},
   "source": []
  },
  {
   "cell_type": "code",
   "execution_count": 6,
   "metadata": {},
   "outputs": [
    {
     "data": {
      "text/plain": [
       "<qiskit.circuit.instructionset.InstructionSet at 0x12e9aad90>"
      ]
     },
     "execution_count": 6,
     "metadata": {},
     "output_type": "execute_result"
    }
   ],
   "source": [
    "for qubit_index, bit_0_or_1 in enumerate(reversed(secretNumber)):\n",
    "    if bit_0_or_1 == '1':\n",
    "        circuit.cx(qubit_index, n)\n",
    "\n",
    "circuit.barrier()"
   ]
  },
  {
   "cell_type": "markdown",
   "metadata": {},
   "source": [
    "### **4.Measure first $n$ qubits on Bell basis**"
   ]
  },
  {
   "cell_type": "markdown",
   "metadata": {},
   "source": [
    "This means first applying H-gate to all qubits and then applying measure-gates to first $n$ qubits."
   ]
  },
  {
   "cell_type": "code",
   "execution_count": 7,
   "metadata": {},
   "outputs": [
    {
     "data": {
      "text/plain": [
       "<qiskit.circuit.instructionset.InstructionSet at 0x12e9aab80>"
      ]
     },
     "execution_count": 7,
     "metadata": {},
     "output_type": "execute_result"
    }
   ],
   "source": [
    "circuit.h(range(n+1))   # range(n+1) returns [0,1,2,...,n] in Python, this will cover all the qubits.\n",
    "circuit.barrier()\n",
    "\n",
    "circuit.measure(range(n), range(n)) # measure the qubits indexed from 0 to n-1 and store them into the cbits indexed 0 to n-1."
   ]
  },
  {
   "cell_type": "code",
   "execution_count": 8,
   "metadata": {},
   "outputs": [
    {
     "data": {
      "text/html": [
       "<pre style=\"word-wrap: normal;white-space: pre;background: #fff0;line-height: 1.1;font-family: &quot;Courier New&quot;,Courier,monospace\">           ░ ┌───┐ ░            ░ ┌───┐ ░ ┌─┐         \n",
       "q_0: ──────░─┤ H ├─░────────────░─┤ H ├─░─┤M├─────────\n",
       "           ░ ├───┤ ░            ░ ├───┤ ░ └╥┘┌─┐      \n",
       "q_1: ──────░─┤ H ├─░────────────░─┤ H ├─░──╫─┤M├──────\n",
       "           ░ ├───┤ ░            ░ ├───┤ ░  ║ └╥┘┌─┐   \n",
       "q_2: ──────░─┤ H ├─░───■────────░─┤ H ├─░──╫──╫─┤M├───\n",
       "           ░ ├───┤ ░   │        ░ ├───┤ ░  ║  ║ └╥┘┌─┐\n",
       "q_3: ──────░─┤ H ├─░───┼────■───░─┤ H ├─░──╫──╫──╫─┤M├\n",
       "     ┌───┐ ░ ├───┤ ░ ┌─┴─┐┌─┴─┐ ░ ├───┤ ░  ║  ║  ║ └╥┘\n",
       "q_4: ┤ X ├─░─┤ H ├─░─┤ X ├┤ X ├─░─┤ H ├─░──╫──╫──╫──╫─\n",
       "     └───┘ ░ └───┘ ░ └───┘└───┘ ░ └───┘ ░  ║  ║  ║  ║ \n",
       "c: 4/══════════════════════════════════════╩══╩══╩══╩═\n",
       "                                           0  1  2  3 </pre>"
      ],
      "text/plain": [
       "           ░ ┌───┐ ░            ░ ┌───┐ ░ ┌─┐         \n",
       "q_0: ──────░─┤ H ├─░────────────░─┤ H ├─░─┤M├─────────\n",
       "           ░ ├───┤ ░            ░ ├───┤ ░ └╥┘┌─┐      \n",
       "q_1: ──────░─┤ H ├─░────────────░─┤ H ├─░──╫─┤M├──────\n",
       "           ░ ├───┤ ░            ░ ├───┤ ░  ║ └╥┘┌─┐   \n",
       "q_2: ──────░─┤ H ├─░───■────────░─┤ H ├─░──╫──╫─┤M├───\n",
       "           ░ ├───┤ ░   │        ░ ├───┤ ░  ║  ║ └╥┘┌─┐\n",
       "q_3: ──────░─┤ H ├─░───┼────■───░─┤ H ├─░──╫──╫──╫─┤M├\n",
       "     ┌───┐ ░ ├───┤ ░ ┌─┴─┐┌─┴─┐ ░ ├───┤ ░  ║  ║  ║ └╥┘\n",
       "q_4: ┤ X ├─░─┤ H ├─░─┤ X ├┤ X ├─░─┤ H ├─░──╫──╫──╫──╫─\n",
       "     └───┘ ░ └───┘ ░ └───┘└───┘ ░ └───┘ ░  ║  ║  ║  ║ \n",
       "c: 4/══════════════════════════════════════╩══╩══╩══╩═\n",
       "                                           0  1  2  3 "
      ]
     },
     "execution_count": 8,
     "metadata": {},
     "output_type": "execute_result"
    }
   ],
   "source": [
    "circuit.draw()"
   ]
  },
  {
   "cell_type": "markdown",
   "metadata": {},
   "source": [
    "**EXECUTING CIRCUIT ON SIMULATOR.**"
   ]
  },
  {
   "cell_type": "markdown",
   "metadata": {},
   "source": [
    "We'll set the number of shots to 1. Since this algo. can find the secret numnber in one attempt."
   ]
  },
  {
   "cell_type": "code",
   "execution_count": 9,
   "metadata": {},
   "outputs": [
    {
     "data": {
      "image/png": "[encoded data removed]",
      "text/plain": [
       "<Figure size 504x360 with 1 Axes>"
      ]
     },
     "execution_count": 9,
     "metadata": {},
     "output_type": "execute_result"
    },
    {
     "data": {
      "image/png": "[encoded data removed]",
      "text/plain": [
       "<Figure size 504x360 with 1 Axes>"
      ]
     },
     "metadata": {
      "needs_background": "light"
     },
     "output_type": "display_data"
    }
   ],
   "source": [
    "shots = 1\n",
    "\n",
    "simulator = Aer.get_backend('qasm_simulator')\n",
    "result = execute(circuit, backend=simulator, shots=shots).result()\n",
    "\n",
    "plot_histogram(result.get_counts(circuit))"
   ]
  },
  {
   "cell_type": "markdown",
   "metadata": {},
   "source": [
    "Even if we set the number of shots to 1000, we will still get all of the results as the secret number."
   ]
  },
  {
   "cell_type": "code",
   "execution_count": 10,
   "metadata": {},
   "outputs": [
    {
     "data": {
      "image/png": "[encoded data removed]",
      "text/plain": [
       "<Figure size 504x360 with 1 Axes>"
      ]
     },
     "execution_count": 10,
     "metadata": {},
     "output_type": "execute_result"
    },
    {
     "data": {
      "image/png": "[encoded data removed]",
      "text/plain": [
       "<Figure size 504x360 with 1 Axes>"
      ]
     },
     "metadata": {
      "needs_background": "light"
     },
     "output_type": "display_data"
    }
   ],
   "source": [
    "shots = 1000\n",
    "\n",
    "simulator = Aer.get_backend('qasm_simulator')\n",
    "result = execute(circuit, backend=simulator, shots=shots).result()\n",
    "\n",
    "plot_histogram(result.get_counts(circuit))"
   ]
  },
  {
   "cell_type": "markdown",
   "metadata": {},
   "source": [
    "**EXECUTING CIRCUIT ON QUANTUM COMPUTER.**"
   ]
  },
  {
   "cell_type": "code",
   "execution_count": 11,
   "metadata": {},
   "outputs": [
    {
     "name": "stdout",
     "output_type": "stream",
     "text": [
      "Job Status: job has successfully run\n",
      "Result: {'0000': 18, '0001': 21, '0010': 17, '0011': 22, '0100': 42, '0101': 16, '0110': 29, '0111': 31, '1000': 70, '1001': 21, '1010': 48, '1011': 38, '1100': 324, '1101': 44, '1110': 208, '1111': 51} \n",
      "\n"
     ]
    },
    {
     "data": {
      "image/png": "[encoded data removed]",
      "text/plain": [
       "<Figure size 504x360 with 1 Axes>"
      ]
     },
     "execution_count": 11,
     "metadata": {},
     "output_type": "execute_result"
    },
    {
     "data": {
      "image/png": "[encoded data removed]",
      "text/plain": [
       "<Figure size 504x360 with 1 Axes>"
      ]
     },
     "metadata": {
      "needs_background": "light"
     },
     "output_type": "display_data"
    }
   ],
   "source": [
    "IBMQ.load_account()\n",
    "\n",
    "provider = IBMQ.get_provider('ibm-q')\n",
    "device = provider.get_backend('ibmq_belem')\n",
    "\n",
    "job = execute(circuit, backend=device, shots=1000)\n",
    "job_monitor(job)\n",
    "\n",
    "counts = job.result().get_counts()\n",
    "\n",
    "print('Result:', counts, '\\n')\n",
    "plot_histogram(counts)"
   ]
  }
 ],
 "metadata": {
  "interpreter": {
   "hash": "61094d7df8cd4a15a24ee4b108085f2b050dbe891ad4c430f6273ca97ad4e82e"
  },
  "kernelspec": {
   "display_name": "Python 3.9.0 64-bit ('3.9.0': pyenv)",
   "name": "python3"
  },
  "language_info": {
   "codemirror_mode": {
    "name": "ipython",
    "version": 3
   },
   "file_extension": ".py",
   "mimetype": "text/x-python",
   "name": "python",
   "nbconvert_exporter": "python",
   "pygments_lexer": "ipython3",
   "version": "3.9.0"
  },
  "orig_nbformat": 4
 },
 "nbformat": 4,
 "nbformat_minor": 2
}