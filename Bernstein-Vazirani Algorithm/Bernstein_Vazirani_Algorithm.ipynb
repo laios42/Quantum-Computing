{
 "cells": [
  {
   "cell_type": "markdown",
   "metadata": {},
   "source": [
    "# Bernstein-Vazirani Algorithm"
   ]
  },
  {
   "cell_type": "markdown",
   "metadata": {},
   "source": [
    "The Bernstein-Vazirani algorithm allows us to determine a secret number stored inside a box. Mathematically, the problem statement that we are solving is the following:\n",
    "\n",
    "Consider a hidden Boolean function $f$ which takes in a string of $n$ bits $\\{x_0, x_1, \\ldots x_{n-1}\\}$ and returns 1 for only a unique n-bit string $s = \\{s_0, s_1, \\ldots s_{n-1}\\}$ and 0 otherwise.\n",
    "\n",
    "How many attempts do we need to make in order to find the secret number $s$?\n",
    "\n",
    "**To find this secret number a Classical Computer after clever thinking will take $n$ attempts.\n",
    "But a Quantum Computer can find this secrect number in $one$ attempt.**"
   ]
  },
  {
   "cell_type": "markdown",
   "metadata": {},
   "source": [
    "The Bernstein-Vazirani Algorithm is an example of many quantum algorithms, where a quantum computer outperforms a classical computer."
   ]
  },
  {
   "cell_type": "markdown",
   "metadata": {},
   "source": [
    "## Algorithm:\n",
    "\n",
    "1. Initialize the first $n$ qubits in the state $\\vert0\\rangle$, and the last qubit in the $\\vert1\\rangle$ state. In Qiskit, all qubits are initialized in the $\\vert0\\rangle$ state, so we don't need to do anything to the first $n$ qubits. For the last qubit, we initialize it to $\\vert1\\rangle$ state by applying an $X$ gate.\n",
    "\n",
    "2. Apply Hadamard gates to all qubits.\n",
    "\n",
    "3. Build the box containing the secret number (also known as an \"oracle\"). We will build it as a function that computes $s.x$ modulo 2 by applying $CX$ gates from the first $n$ qubits onto the last qubit whenever there is a $1$ in the secret number. We will do this in reverse order, meaning that there will be a $CX$ gate from the $n$th qubit to the last qubit if the first bit of the secret number is 1.\n",
    "\n",
    "4. Measure the first $n$ qubits in the Bell basis. This means applying Hadamard gates to the first $n$ qubits again before applying measurements."
   ]
  },
  {
   "cell_type": "code",
   "execution_count": 1,
   "metadata": {},
   "outputs": [],
   "source": [
    "from qiskit import *\n",
    "%matplotlib inline\n",
    "#from qikit.tool.visualization import plot_histogram"
   ]
  },
  {
   "cell_type": "code",
   "execution_count": 2,
   "metadata": {},
   "outputs": [],
   "source": [
    "# we decide on a secret number.\n",
    "secretNumber = '101001'"
   ]
  },
  {
   "cell_type": "code",
   "execution_count": null,
   "metadata": {},
   "outputs": [],
   "source": [
    "n = len(secretNumber)\n",
    "\n",
    "# The algorithm requires n+1 qubits and n classical bits, where n is the length of the secret number.\n",
    "\n",
    "circuit = QuantumCircuit(n+1, n);"
   ]
  },
  {
   "cell_type": "markdown",
   "metadata": {},
   "source": [
    "### **1. Initialize all qubits as state $\\vert0\\rangle$, and the last qubit as the $\\vert1\\rangle$ state**"
   ]
  },
  {
   "cell_type": "code",
   "execution_count": null,
   "metadata": {},
   "outputs": [],
   "source": [
    "circuit.x(n)    # the n+1 qubits are indexed 0...n, so the last qubit is index n.\n",
    "circuit.barrier()\n",
    "circuit.draw(output='mpl')"
   ]
  },
  {
   "cell_type": "markdown",
   "metadata": {},
   "source": [
    "### **2. Apply H-gates to all qubits.**"
   ]
  },
  {
   "cell_type": "code",
   "execution_count": null,
   "metadata": {},
   "outputs": [],
   "source": [
    "circuit.h(range(n+1))   # range(n+1) returns [0,1,2,...,n] in Python. This will cover all the qubits.\n",
    "circuit.barrier()\n",
    "circuit.draw(output='mpl')"
   ]
  },
  {
   "cell_type": "markdown",
   "metadata": {},
   "source": [
    "### **3. Oracle**"
   ]
  },
  {
   "cell_type": "markdown",
   "metadata": {},
   "source": []
  },
  {
   "cell_type": "code",
   "execution_count": null,
   "metadata": {},
   "outputs": [],
   "source": [
    "for qubit_index, bit_0_or_1 in enumerate(reverse(secretNumber)):\n",
    "    if bit_0_or_1 == '1':\n",
    "        circuit.cx(qubit_index, n)\n",
    "\n",
    "circuit.barrier()"
   ]
  },
  {
   "cell_type": "markdown",
   "metadata": {},
   "source": [
    "### **4.Measure first $n$ qubits on Bell basis**"
   ]
  },
  {
   "cell_type": "markdown",
   "metadata": {},
   "source": [
    "This means first applying H-gate to all qubits and then applying measure-gates to first $n$ qubits."
   ]
  },
  {
   "cell_type": "code",
   "execution_count": null,
   "metadata": {},
   "outputs": [],
   "source": [
    "circuit.h(range(n+1))   # range(n+1) returns [0,1,2,...,n] in Python, this will cover all the qubits.\n",
    "circuit.barrier()\n",
    "\n",
    "circuit.measure(range(n), )"
   ]
  },
  {
   "cell_type": "markdown",
   "metadata": {},
   "source": []
  }
 ],
 "metadata": {
  "interpreter": {
   "hash": "61094d7df8cd4a15a24ee4b108085f2b050dbe891ad4c430f6273ca97ad4e82e"
  },
  "kernelspec": {
   "display_name": "Python 3.9.0 64-bit ('3.9.0': pyenv)",
   "name": "python3"
  },
  "language_info": {
   "codemirror_mode": {
    "name": "ipython",
    "version": 3
   },
   "file_extension": ".py",
   "mimetype": "text/x-python",
   "name": "python",
   "nbconvert_exporter": "python",
   "pygments_lexer": "ipython3",
   "version": "3.9.0"
  },
  "orig_nbformat": 4
 },
 "nbformat": 4,
 "nbformat_minor": 2
}